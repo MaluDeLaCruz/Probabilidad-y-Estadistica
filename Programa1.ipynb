{
  "nbformat": 4,
  "nbformat_minor": 0,
  "metadata": {
    "colab": {
      "provenance": [],
      "authorship_tag": "ABX9TyN7/PHv/iAEsd5aIFLIzK8g",
      "include_colab_link": true
    },
    "kernelspec": {
      "name": "python3",
      "display_name": "Python 3"
    },
    "language_info": {
      "name": "python"
    }
  },
  "cells": [
    {
      "cell_type": "markdown",
      "metadata": {
        "id": "view-in-github",
        "colab_type": "text"
      },
      "source": [
        "<a href=\"https://colab.research.google.com/github/MaluDeLaCruz/Probabilidad-y-Estadistica/blob/main/Programa1.ipynb\" target=\"_parent\"><img src=\"https://colab.research.google.com/assets/colab-badge.svg\" alt=\"Open In Colab\"/></a>"
      ]
    },
    {
      "cell_type": "code",
      "execution_count": 1,
      "metadata": {
        "colab": {
          "base_uri": "https://localhost:8080/"
        },
        "id": "WZT-9UZ6yh8N",
        "outputId": "930bf9a1-d902-4abb-c53f-0d73f4ae7ad2"
      },
      "outputs": [
        {
          "output_type": "stream",
          "name": "stdout",
          "text": [
            "tu edad:  18\n"
          ]
        }
      ],
      "source": [
        "ed=18\n",
        "print(\"tu edad: \",ed)"
      ]
    },
    {
      "cell_type": "code",
      "source": [
        "print(type(ed))"
      ],
      "metadata": {
        "colab": {
          "base_uri": "https://localhost:8080/"
        },
        "id": "sBPxZM4TzVYw",
        "outputId": "2d578134-0bf6-4e59-83d1-bf85eace7fcb"
      },
      "execution_count": 4,
      "outputs": [
        {
          "output_type": "stream",
          "name": "stdout",
          "text": [
            "<class 'int'>\n"
          ]
        }
      ]
    },
    {
      "cell_type": "code",
      "source": [
        "nom=\"malu\"\n",
        "print(nom)"
      ],
      "metadata": {
        "colab": {
          "base_uri": "https://localhost:8080/"
        },
        "id": "TMoXIFouzm3W",
        "outputId": "dca5305b-ed23-4c2d-9511-f320c5c7d570"
      },
      "execution_count": 3,
      "outputs": [
        {
          "output_type": "stream",
          "name": "stdout",
          "text": [
            "malu\n"
          ]
        }
      ]
    }
  ]
}